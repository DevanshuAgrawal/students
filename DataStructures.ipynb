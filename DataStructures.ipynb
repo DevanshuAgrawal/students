{
 "cells": [
  {
   "cell_type": "code",
   "execution_count": 1,
   "metadata": {},
   "outputs": [
    {
     "name": "stdout",
     "output_type": "stream",
     "text": [
      "<class 'int'>\n",
      "<class 'float'>\n",
      "<class 'str'>\n"
     ]
    }
   ],
   "source": [
    "#basic types\n",
    "#The variable is just a label or reference to somethin\n",
    "a = 1\n",
    "b = 1.1\n",
    "c = \"1\"\n",
    "\n",
    "print(type(a))\n",
    "print(type(b))\n",
    "print(type(c))"
   ]
  },
  {
   "cell_type": "code",
   "execution_count": 2,
   "metadata": {},
   "outputs": [
    {
     "name": "stdout",
     "output_type": "stream",
     "text": [
      "<class 'list'>\n",
      "[1, 2.0, 3, 1]\n",
      "<class 'tuple'>\n",
      "(1, 2.0, 3, 1)\n",
      "<class 'set'>\n",
      "{1, 2.0, 3}\n",
      "<class 'dict'>\n",
      "{1: 4, 2.0: 'two', 3: '3'}\n"
     ]
    }
   ],
   "source": [
    "#complex types\n",
    "a = [1, 2.0, 3, 1]\n",
    "b = (1, 2.0, 3, 1)\n",
    "c = {1, 2.0, 3, 1}\n",
    "d = {1:'1', 2.0:'two', 3:'3', 1:4}\n",
    "\n",
    "print(type(a))\n",
    "print(a)\n",
    "print(type(b))\n",
    "print(b)\n",
    "print(type(c))\n",
    "print(c)\n",
    "print(type(d))\n",
    "print(d)"
   ]
  },
  {
   "cell_type": "code",
   "execution_count": 3,
   "metadata": {},
   "outputs": [
    {
     "name": "stdout",
     "output_type": "stream",
     "text": [
      "<class 'tuple'>\n",
      "([1, 2.0, 3, 1], 2.0, 3, 1)\n",
      "<class 'dict'>\n",
      "{1: ([1, 2.0, 3, 1], 2.0, 3, 1), 2.0: [1, 2.0, 3, 1]}\n"
     ]
    }
   ],
   "source": [
    "a = [1, 2.0, 3, 1]\n",
    "b = (a, 2.0, 3, 1)\n",
    "c = {1:b, 2.0:a}\n",
    "print(type(b))\n",
    "print(b)\n",
    "print(type(c))\n",
    "print(c)\n"
   ]
  },
  {
   "cell_type": "code",
   "execution_count": 5,
   "metadata": {},
   "outputs": [
    {
     "name": "stdout",
     "output_type": "stream",
     "text": [
      "dict_keys(['scm', 'website', 'slug', 'full_name', 'has_wiki', 'owner', 'updated_on', 'fork_policy', 'size', 'links', 'has_issues', 'type', 'uuid', 'description', '_id', 'is_private', 'language', 'name', 'created_on'])\n",
      "\n",
      "\n",
      "dict_values(['hg', 'http://stellaris.zib.de/', 'stellaris', 'mikael/stellaris', True, {'type': 'user', 'uuid': '{d7d79101-e359-4d1f-ae9a-28c94ee4e5d3}', 'display_name': 'Mikael Högqvist', 'links': {'self': {'href': 'https://api.bitbucket.org/2.0/users/mikael'}, 'avatar': {'href': 'https://bitbucket.org/account/mikael/avatar/32/'}, 'html': {'href': 'https://bitbucket.org/mikael/'}}, 'username': 'mikael'}, '2012-06-24T17:36:12.810769+00:00', 'allow_forks', 3109, {'clone': [{'name': 'https', 'href': 'https://bitbucket.org/mikael/stellaris'}, {'name': 'ssh', 'href': 'ssh://hg@bitbucket.org/mikael/stellaris'}], 'pullrequests': {'href': 'https://api.bitbucket.org/2.0/repositories/mikael/stellaris/pullrequests'}, 'watchers': {'href': 'https://api.bitbucket.org/2.0/repositories/mikael/stellaris/watchers'}, 'tags': {'href': 'https://api.bitbucket.org/2.0/repositories/mikael/stellaris/refs/tags'}, 'html': {'href': 'https://bitbucket.org/mikael/stellaris'}, 'branches': {'href': 'https://api.bitbucket.org/2.0/repositories/mikael/stellaris/refs/branches'}, 'downloads': {'href': 'https://api.bitbucket.org/2.0/repositories/mikael/stellaris/downloads'}, 'hooks': {'href': 'https://api.bitbucket.org/2.0/repositories/mikael/stellaris/hooks'}, 'self': {'href': 'https://api.bitbucket.org/2.0/repositories/mikael/stellaris'}, 'avatar': {'href': 'https://bitbucket.org/mikael/stellaris/avatar/32/'}, 'commits': {'href': 'https://api.bitbucket.org/2.0/repositories/mikael/stellaris/commits'}, 'forks': {'href': 'https://api.bitbucket.org/2.0/repositories/mikael/stellaris/forks'}}, True, 'repository', '{e8daff2a-ceaf-465d-bb87-113a85daaea5}', 'REST-frontend for RDF-databases', ObjectId('5848bccadb466502ee52f0b9'), False, '', 'stellaris', '2008-07-02T20:31:45.240046+00:00'])\n",
      "\n",
      "\n",
      "{'_id': ObjectId('5848bccadb466502ee52f0b9'),\n",
      " 'created_on': '2008-07-02T20:31:45.240046+00:00',\n",
      " 'description': 'REST-frontend for RDF-databases',\n",
      " 'fork_policy': 'allow_forks',\n",
      " 'full_name': 'mikael/stellaris',\n",
      " 'has_issues': True,\n",
      " 'has_wiki': True,\n",
      " 'is_private': False,\n",
      " 'language': '',\n",
      " 'links': {'avatar': {'href': 'https://bitbucket.org/mikael/stellaris/avatar/32/'},\n",
      "           'branches': {'href': 'https://api.bitbucket.org/2.0/repositories/mikael/stellaris/refs/branches'},\n",
      "           'clone': [{'href': 'https://bitbucket.org/mikael/stellaris',\n",
      "                      'name': 'https'},\n",
      "                     {'href': 'ssh://hg@bitbucket.org/mikael/stellaris',\n",
      "                      'name': 'ssh'}],\n",
      "           'commits': {'href': 'https://api.bitbucket.org/2.0/repositories/mikael/stellaris/commits'},\n",
      "           'downloads': {'href': 'https://api.bitbucket.org/2.0/repositories/mikael/stellaris/downloads'},\n",
      "           'forks': {'href': 'https://api.bitbucket.org/2.0/repositories/mikael/stellaris/forks'},\n",
      "           'hooks': {'href': 'https://api.bitbucket.org/2.0/repositories/mikael/stellaris/hooks'},\n",
      "           'html': {'href': 'https://bitbucket.org/mikael/stellaris'},\n",
      "           'pullrequests': {'href': 'https://api.bitbucket.org/2.0/repositories/mikael/stellaris/pullrequests'},\n",
      "           'self': {'href': 'https://api.bitbucket.org/2.0/repositories/mikael/stellaris'},\n",
      "           'tags': {'href': 'https://api.bitbucket.org/2.0/repositories/mikael/stellaris/refs/tags'},\n",
      "           'watchers': {'href': 'https://api.bitbucket.org/2.0/repositories/mikael/stellaris/watchers'}},\n",
      " 'name': 'stellaris',\n",
      " 'owner': {'display_name': 'Mikael Högqvist',\n",
      "           'links': {'avatar': {'href': 'https://bitbucket.org/account/mikael/avatar/32/'},\n",
      "                     'html': {'href': 'https://bitbucket.org/mikael/'},\n",
      "                     'self': {'href': 'https://api.bitbucket.org/2.0/users/mikael'}},\n",
      "           'type': 'user',\n",
      "           'username': 'mikael',\n",
      "           'uuid': '{d7d79101-e359-4d1f-ae9a-28c94ee4e5d3}'},\n",
      " 'scm': 'hg',\n",
      " 'size': 3109,\n",
      " 'slug': 'stellaris',\n",
      " 'type': 'repository',\n",
      " 'updated_on': '2012-06-24T17:36:12.810769+00:00',\n",
      " 'uuid': '{e8daff2a-ceaf-465d-bb87-113a85daaea5}',\n",
      " 'website': 'http://stellaris.zib.de/'}\n"
     ]
    }
   ],
   "source": [
    "import pprint\n",
    "import re\n",
    "import pymongo, json\n",
    "\n",
    "pp = pprint.PrettyPrinter(indent=1,width=65)\n",
    "\n",
    "client = pymongo.MongoClient (host=\"da1.eecs.utk.edu\")\n",
    "db = client ['bitbucket16']\n",
    "coll = db ['repos']\n",
    "for r in coll.find():\n",
    "    print(r.keys())\n",
    "    print (\"\\n\")\n",
    "    print(r.values())\n",
    "    print (\"\\n\")\n",
    "    print(pp .pformat (r))\n",
    "    break"
   ]
  },
  {
   "cell_type": "code",
   "execution_count": 6,
   "metadata": {},
   "outputs": [
    {
     "name": "stdout",
     "output_type": "stream",
     "text": [
      "{'_id': ObjectId('5848d783db46651371aaa8c6'),\n",
      " 'created_on': '2011-06-06T03:40:09.505792+00:00',\n",
      " 'description': '',\n",
      " 'fork_policy': 'allow_forks',\n",
      " 'full_name': 'opensymphony/xwork',\n",
      " 'has_issues': False,\n",
      " 'has_wiki': False,\n",
      " 'is_private': False,\n",
      " 'language': 'java',\n",
      " 'links': {'avatar': {'href': 'https://bitbucket.org/opensymphony/xwork/avatar/32/'},\n",
      "           'branches': {'href': 'https://api.bitbucket.org/2.0/repositories/opensymphony/xwork/refs/branches'},\n",
      "           'clone': [{'href': 'https://bitbucket.org/opensymphony/xwork.git',\n",
      "                      'name': 'https'},\n",
      "                     {'href': 'ssh://git@bitbucket.org/opensymphony/xwork.git',\n",
      "                      'name': 'ssh'}],\n",
      "           'commits': {'href': 'https://api.bitbucket.org/2.0/repositories/opensymphony/xwork/commits'},\n",
      "           'downloads': {'href': 'https://api.bitbucket.org/2.0/repositories/opensymphony/xwork/downloads'},\n",
      "           'forks': {'href': 'https://api.bitbucket.org/2.0/repositories/opensymphony/xwork/forks'},\n",
      "           'hooks': {'href': 'https://api.bitbucket.org/2.0/repositories/opensymphony/xwork/hooks'},\n",
      "           'html': {'href': 'https://bitbucket.org/opensymphony/xwork'},\n",
      "           'pullrequests': {'href': 'https://api.bitbucket.org/2.0/repositories/opensymphony/xwork/pullrequests'},\n",
      "           'self': {'href': 'https://api.bitbucket.org/2.0/repositories/opensymphony/xwork'},\n",
      "           'tags': {'href': 'https://api.bitbucket.org/2.0/repositories/opensymphony/xwork/refs/tags'},\n",
      "           'watchers': {'href': 'https://api.bitbucket.org/2.0/repositories/opensymphony/xwork/watchers'}},\n",
      " 'name': 'xwork',\n",
      " 'owner': {'display_name': 'opensymphony',\n",
      "           'links': {'avatar': {'href': 'https://bitbucket.org/account/opensymphony/avatar/32/'},\n",
      "                     'html': {'href': 'https://bitbucket.org/opensymphony/'},\n",
      "                     'self': {'href': 'https://api.bitbucket.org/2.0/users/opensymphony'}},\n",
      "           'type': 'user',\n",
      "           'username': 'opensymphony',\n",
      "           'uuid': '{cedfd0d1-899f-49de-acf7-a2fa8e924b6f}'},\n",
      " 'scm': 'git',\n",
      " 'size': 22877949,\n",
      " 'slug': 'xwork',\n",
      " 'type': 'repository',\n",
      " 'updated_on': '2014-11-16T23:19:16.674082+00:00',\n",
      " 'uuid': '{3f630668-75f1-4903-ae5e-8ea37437e09e}',\n",
      " 'website': ''}\n"
     ]
    }
   ],
   "source": [
    "#can use logic to search\n",
    "for r in coll.find( { '$and': [ { 'has_wiki':False}, {'scm':'git'} ] }):\n",
    "    print(pp .pformat (r))\n",
    "    break"
   ]
  },
  {
   "cell_type": "code",
   "execution_count": 7,
   "metadata": {},
   "outputs": [
    {
     "name": "stdout",
     "output_type": "stream",
     "text": [
      "{'_id': ObjectId('5848d8f9db46651371aacd7b'),\n",
      " 'created_on': '2011-10-03T16:57:53.254203+00:00',\n",
      " 'description': '',\n",
      " 'fork_policy': 'allow_forks',\n",
      " 'full_name': 'elmcitylabs/ecl-django',\n",
      " 'has_issues': False,\n",
      " 'has_wiki': False,\n",
      " 'is_private': False,\n",
      " 'language': 'python',\n",
      " 'links': {'avatar': {'href': 'https://bitbucket.org/elmcitylabs/ecl-django/avatar/32/'},\n",
      "           'branches': {'href': 'https://api.bitbucket.org/2.0/repositories/elmcitylabs/ecl-django/refs/branches'},\n",
      "           'clone': [{'href': 'https://bitbucket.org/elmcitylabs/ecl-django.git',\n",
      "                      'name': 'https'},\n",
      "                     {'href': 'ssh://git@bitbucket.org/elmcitylabs/ecl-django.git',\n",
      "                      'name': 'ssh'}],\n",
      "           'commits': {'href': 'https://api.bitbucket.org/2.0/repositories/elmcitylabs/ecl-django/commits'},\n",
      "           'downloads': {'href': 'https://api.bitbucket.org/2.0/repositories/elmcitylabs/ecl-django/downloads'},\n",
      "           'forks': {'href': 'https://api.bitbucket.org/2.0/repositories/elmcitylabs/ecl-django/forks'},\n",
      "           'hooks': {'href': 'https://api.bitbucket.org/2.0/repositories/elmcitylabs/ecl-django/hooks'},\n",
      "           'html': {'href': 'https://bitbucket.org/elmcitylabs/ecl-django'},\n",
      "           'pullrequests': {'href': 'https://api.bitbucket.org/2.0/repositories/elmcitylabs/ecl-django/pullrequests'},\n",
      "           'self': {'href': 'https://api.bitbucket.org/2.0/repositories/elmcitylabs/ecl-django'},\n",
      "           'tags': {'href': 'https://api.bitbucket.org/2.0/repositories/elmcitylabs/ecl-django/refs/tags'},\n",
      "           'watchers': {'href': 'https://api.bitbucket.org/2.0/repositories/elmcitylabs/ecl-django/watchers'}},\n",
      " 'name': 'ECL Django',\n",
      " 'owner': {'display_name': 'Elm City Labs',\n",
      "           'links': {'avatar': {'href': 'https://bitbucket.org/account/elmcitylabs/avatar/32/'},\n",
      "                     'html': {'href': 'https://bitbucket.org/elmcitylabs/'},\n",
      "                     'self': {'href': 'https://api.bitbucket.org/2.0/teams/elmcitylabs'}},\n",
      "           'type': 'team',\n",
      "           'username': 'elmcitylabs',\n",
      "           'uuid': '{3c663f57-8ea4-4f97-b6ce-6371f215bf62}'},\n",
      " 'project': {'key': 'PROJ',\n",
      "             'links': {'avatar': {'href': 'https://bitbucket.org/account/user/elmcitylabs/projects/PROJ/avatar/32'},\n",
      "                       'html': {'href': 'https://bitbucket.org/account/user/elmcitylabs/projects/PROJ'},\n",
      "                       'self': {'href': 'https://api.bitbucket.org/2.0/teams/elmcitylabs/projects/PROJ'}},\n",
      "             'name': 'Untitled project',\n",
      "             'type': 'project',\n",
      "             'uuid': '{39563a8a-6b7a-4381-acab-add025058656}'},\n",
      " 'scm': 'git',\n",
      " 'size': 1022434,\n",
      " 'slug': 'ecl-django',\n",
      " 'type': 'repository',\n",
      " 'updated_on': '2014-05-20T15:46:27.699242+00:00',\n",
      " 'uuid': '{eca4d94b-305b-4934-908c-0c56b065af77}',\n",
      " 'website': ''}\n"
     ]
    }
   ],
   "source": [
    "#can search in the subfields\n",
    "for r in coll.find( { '$and': [ { 'owner.type': { '$ne':'user'}} , { 'has_wiki':False}, {'scm':'git'} ] }):\n",
    "    print(pp .pformat (r))\n",
    "    break"
   ]
  },
  {
   "cell_type": "code",
   "execution_count": 9,
   "metadata": {},
   "outputs": [
    {
     "name": "stdout",
     "output_type": "stream",
     "text": [
      "{'_id': ObjectId('5848fe2fdb46651371ae6c9a'),\n",
      " 'created_on': '2014-03-23T16:55:16.110305+00:00',\n",
      " 'description': 'Thematizer\\r\\n'\n",
      "                'Overview\\r\\n'\n",
      "                '\\r\\n'\n",
      "                'Thematizer is open source collaboration '\n",
      "                'software for graphic designers and web '\n",
      "                'developers. The Thematizer gives students and '\n",
      "                'young people the ability to easily and quickly '\n",
      "                'build true custom websites, without any '\n",
      "                'requirement to buy expensive software. It '\n",
      "                'builds a bridge between disciplines and helps '\n",
      "                'visual thinkers understand the world of '\n",
      "                'code.\\r\\n'\n",
      "                '\\r\\n'\n",
      "                'Timeline\\r\\n'\n",
      "                '\\r\\n'\n",
      "                'The original design specification for the '\n",
      "                'Thematizer was created in August 2011, as a '\n",
      "                'joint project of Yes Exactly Web Design and '\n",
      "                'Amherst College undergraduate Lexie '\n",
      "                'Gaines-Smith. A rough Thematizer alpha version '\n",
      "                'was completed in March 2013.\\r\\n'\n",
      "                '\\r\\n'\n",
      "                'Pending successful funding of our Kickstarter '\n",
      "                'campaign, we plan to have a full-featured '\n",
      "                'open-source product available for general '\n",
      "                'release by Fall 2014.\\r\\n'\n",
      "                '\\r\\n'\n",
      "                'We are currently seeking designers, testers, '\n",
      "                'and web developers. For more information, go '\n",
      "                'to http://www.artmeetscode.com for details on '\n",
      "                'how to get involved in our project.\\r\\n'\n",
      "                '\\r\\n'\n",
      "                'Installation\\r\\n'\n",
      "                '\\r\\n'\n",
      "                'This initial repository is a web-based '\n",
      "                'prototype to show intended functionality and '\n",
      "                'design.\\r\\n'\n",
      "                '\\r\\n'\n",
      "                'Uses Foundation 5 as JavaScript & CSS '\n",
      "                'framework.\\r\\n'\n",
      "                '\\r\\n'\n",
      "                'Thematizer software to run on LAMP server '\n",
      "                'stack with Ruby on Rails and SASS '\n",
      "                '(Syntactically Awesome StyleSheets).',\n",
      " 'fork_policy': 'allow_forks',\n",
      " 'full_name': 'yesexactly/thematizer',\n",
      " 'has_issues': False,\n",
      " 'has_wiki': False,\n",
      " 'is_private': False,\n",
      " 'language': 'html/css',\n",
      " 'links': {'avatar': {'href': 'https://bitbucket.org/yesexactly/thematizer/avatar/32/'},\n",
      "           'branches': {'href': 'https://api.bitbucket.org/2.0/repositories/yesexactly/thematizer/refs/branches'},\n",
      "           'clone': [{'href': 'https://bitbucket.org/yesexactly/thematizer.git',\n",
      "                      'name': 'https'},\n",
      "                     {'href': 'ssh://git@bitbucket.org/yesexactly/thematizer.git',\n",
      "                      'name': 'ssh'}],\n",
      "           'commits': {'href': 'https://api.bitbucket.org/2.0/repositories/yesexactly/thematizer/commits'},\n",
      "           'downloads': {'href': 'https://api.bitbucket.org/2.0/repositories/yesexactly/thematizer/downloads'},\n",
      "           'forks': {'href': 'https://api.bitbucket.org/2.0/repositories/yesexactly/thematizer/forks'},\n",
      "           'hooks': {'href': 'https://api.bitbucket.org/2.0/repositories/yesexactly/thematizer/hooks'},\n",
      "           'html': {'href': 'https://bitbucket.org/yesexactly/thematizer'},\n",
      "           'pullrequests': {'href': 'https://api.bitbucket.org/2.0/repositories/yesexactly/thematizer/pullrequests'},\n",
      "           'self': {'href': 'https://api.bitbucket.org/2.0/repositories/yesexactly/thematizer'},\n",
      "           'tags': {'href': 'https://api.bitbucket.org/2.0/repositories/yesexactly/thematizer/refs/tags'},\n",
      "           'watchers': {'href': 'https://api.bitbucket.org/2.0/repositories/yesexactly/thematizer/watchers'}},\n",
      " 'name': 'thematizer',\n",
      " 'owner': {'display_name': 'Yes Exactly',\n",
      "           'links': {'avatar': {'href': 'https://bitbucket.org/account/yesexactly/avatar/32/'},\n",
      "                     'html': {'href': 'https://bitbucket.org/yesexactly/'},\n",
      "                     'self': {'href': 'https://api.bitbucket.org/2.0/teams/yesexactly'}},\n",
      "           'type': 'team',\n",
      "           'username': 'yesexactly',\n",
      "           'uuid': '{31eacef2-0181-44cb-b66b-a1c783c76eaa}'},\n",
      " 'project': {'key': 'PROJ',\n",
      "             'links': {'avatar': {'href': 'https://bitbucket.org/account/user/yesexactly/projects/PROJ/avatar/32'},\n",
      "                       'html': {'href': 'https://bitbucket.org/account/user/yesexactly/projects/PROJ'},\n",
      "                       'self': {'href': 'https://api.bitbucket.org/2.0/teams/yesexactly/projects/PROJ'}},\n",
      "             'name': 'Untitled project',\n",
      "             'type': 'project',\n",
      "             'uuid': '{48720d88-27ed-4c67-bd86-0ecef267d596}'},\n",
      " 'scm': 'git',\n",
      " 'size': 1238086,\n",
      " 'slug': 'thematizer',\n",
      " 'type': 'repository',\n",
      " 'updated_on': '2014-03-23T16:57:08.121599+00:00',\n",
      " 'uuid': '{6892a65a-8b94-4f49-97c1-07afa0a3c33a}',\n",
      " 'website': ''}\n"
     ]
    }
   ],
   "source": [
    "#can search text\n",
    "# first need to creat a text index: db.repos.createIndex({'$**':'text'},{ language_override: \"dummy\" } )\n",
    "\n",
    "for r in coll.find( { '$and': [ { '$text': {'$search': 'javascript' } }, { 'owner.type': { '$ne':'user'}} , { 'has_wiki':False}, {'scm':'git'} ] }):\n",
    "    print(pp .pformat (r))\n",
    "    break"
   ]
  },
  {
   "cell_type": "code",
   "execution_count": null,
   "metadata": {
    "collapsed": true
   },
   "outputs": [],
   "source": []
  }
 ],
 "metadata": {
  "kernelspec": {
   "display_name": "Python 3",
   "language": "python",
   "name": "python3"
  },
  "language_info": {
   "codemirror_mode": {
    "name": "ipython",
    "version": 3
   },
   "file_extension": ".py",
   "mimetype": "text/x-python",
   "name": "python",
   "nbconvert_exporter": "python",
   "pygments_lexer": "ipython3",
   "version": "3.5.2"
  }
 },
 "nbformat": 4,
 "nbformat_minor": 1
}
