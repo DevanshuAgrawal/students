{
 "cells": [
  {
   "cell_type": "code",
   "execution_count": 5,
   "metadata": {
    "collapsed": false
   },
   "outputs": [
    {
     "name": "stdout",
     "output_type": "stream",
     "text": [
      "<class 'int'>\n",
      "<class 'float'>\n",
      "<class 'str'>\n"
     ]
    }
   ],
   "source": [
    "#basic types\n",
    "#The variable is just a label or reference to somethin\n",
    "a = 1\n",
    "b = 1.1\n",
    "c = \"1\"\n",
    "\n",
    "print(type(a))\n",
    "print(type(b))\n",
    "print(type(c))"
   ]
  },
  {
   "cell_type": "code",
   "execution_count": 20,
   "metadata": {
    "collapsed": false
   },
   "outputs": [
    {
     "name": "stdout",
     "output_type": "stream",
     "text": [
      "<class 'list'>\n",
      "[1, 2.0, 3, 1]\n",
      "<class 'tuple'>\n",
      "(1, 2.0, 3, 1)\n",
      "<class 'set'>\n",
      "{1, 2.0, 3}\n",
      "<class 'dict'>\n",
      "{1: 4, 2.0: 'two', 3: '3'}\n"
     ]
    }
   ],
   "source": [
    "#complex types\n",
    "a = [1, 2.0, 3, 1]\n",
    "b = (1, 2.0, 3, 1)\n",
    "c = {1, 2.0, 3, 1}\n",
    "d = {1:'1', 2.0:'two', 3:'3', 1:4}\n",
    "\n",
    "print(type(a))\n",
    "print(a)\n",
    "print(type(b))\n",
    "print(b)\n",
    "print(type(c))\n",
    "print(c)\n",
    "print(type(d))\n",
    "print(d)"
   ]
  },
  {
   "cell_type": "code",
   "execution_count": 25,
   "metadata": {
    "collapsed": false
   },
   "outputs": [
    {
     "name": "stdout",
     "output_type": "stream",
     "text": [
      "<class 'tuple'>\n",
      "([1, 2.0, 3, 1], 2.0, 3, 1)\n",
      "<class 'dict'>\n",
      "{1: ([1, 2.0, 3, 1], 2.0, 3, 1), 2.0: [1, 2.0, 3, 1]}\n"
     ]
    }
   ],
   "source": [
    "a = [1, 2.0, 3, 1]\n",
    "b = (a, 2.0, 3, 1)\n",
    "c = {1:b, 2.0:a}\n",
    "print(type(b))\n",
    "print(b)\n",
    "print(type(c))\n",
    "print(c)\n"
   ]
  },
  {
   "cell_type": "code",
   "execution_count": 40,
   "metadata": {
    "collapsed": false
   },
   "outputs": [
    {
     "name": "stdout",
     "output_type": "stream",
     "text": [
      "dict_keys(['created_on', 'updated_on', 'scm', 'full_name', 'size', 'language', 'has_issues', 'uuid', 'description', '_id', 'has_wiki', 'links', 'fork_policy', 'type', 'is_private', 'owner', 'name'])\n",
      "\n",
      "\n",
      "dict_values(['2008-06-25T00:53:00.273366+00:00', '2012-06-24T17:32:27.458855+00:00', 'hg', 'phlogistonjohn/tweakmsg', 7085, '', True, '{59299fb9-3695-4e0c-b8ca-836888b83315}', 'Mercurial (hg) extension to allow commenting on commit messages.  Mainly written for practice reading & working with mercurial internals.\\r\\n', ObjectId('55f8667719690706477c8a97'), True, {'html': {'href': 'https://bitbucket.org/phlogistonjohn/tweakmsg'}, 'clone': [{'name': 'https', 'href': 'https://bitbucket.org/phlogistonjohn/tweakmsg'}, {'name': 'ssh', 'href': 'ssh://hg@bitbucket.org/phlogistonjohn/tweakmsg'}], 'commits': {'href': 'https://bitbucket.org/!api/2.0/repositories/phlogistonjohn/tweakmsg/commits'}, 'forks': {'href': 'https://bitbucket.org/!api/2.0/repositories/phlogistonjohn/tweakmsg/forks'}, 'downloads': {'href': 'https://bitbucket.org/!api/2.0/repositories/phlogistonjohn/tweakmsg/downloads'}, 'watchers': {'href': 'https://bitbucket.org/!api/2.0/repositories/phlogistonjohn/tweakmsg/watchers'}, 'avatar': {'href': 'https://bitbucket.org/phlogistonjohn/tweakmsg/avatar/16/'}, 'hooks': {'href': 'https://bitbucket.org/!api/2.0/repositories/phlogistonjohn/tweakmsg/hooks'}, 'pullrequests': {'href': 'https://bitbucket.org/!api/2.0/repositories/phlogistonjohn/tweakmsg/pullrequests'}, 'self': {'href': 'https://bitbucket.org/!api/2.0/repositories/phlogistonjohn/tweakmsg'}}, 'allow_forks', 'repository', False, {'links': {'html': {'href': 'https://bitbucket.org/phlogistonjohn/'}, 'avatar': {'href': 'https://bitbucket.org/account/phlogistonjohn/avatar/32/'}, 'self': {'href': 'https://bitbucket.org/!api/2.0/users/phlogistonjohn'}}, 'username': 'phlogistonjohn', 'uuid': '{c8614bfa-831a-49eb-866b-4bdd87c8c2c2}', 'type': 'user', 'display_name': 'John Mulligan'}, 'tweakmsg'])\n",
      "\n",
      "\n",
      "{'_id': ObjectId('55f8667719690706477c8a97'),\n",
      " 'created_on': '2008-06-25T00:53:00.273366+00:00',\n",
      " 'description': 'Mercurial (hg) extension to allow commenting '\n",
      "                'on commit messages.  Mainly written for '\n",
      "                'practice reading & working with mercurial '\n",
      "                'internals.\\r\\n',\n",
      " 'fork_policy': 'allow_forks',\n",
      " 'full_name': 'phlogistonjohn/tweakmsg',\n",
      " 'has_issues': True,\n",
      " 'has_wiki': True,\n",
      " 'is_private': False,\n",
      " 'language': '',\n",
      " 'links': {'avatar': {'href': 'https://bitbucket.org/phlogistonjohn/tweakmsg/avatar/16/'},\n",
      "           'clone': [{'href': 'https://bitbucket.org/phlogistonjohn/tweakmsg',\n",
      "                      'name': 'https'},\n",
      "                     {'href': 'ssh://hg@bitbucket.org/phlogistonjohn/tweakmsg',\n",
      "                      'name': 'ssh'}],\n",
      "           'commits': {'href': 'https://bitbucket.org/!api/2.0/repositories/phlogistonjohn/tweakmsg/commits'},\n",
      "           'downloads': {'href': 'https://bitbucket.org/!api/2.0/repositories/phlogistonjohn/tweakmsg/downloads'},\n",
      "           'forks': {'href': 'https://bitbucket.org/!api/2.0/repositories/phlogistonjohn/tweakmsg/forks'},\n",
      "           'hooks': {'href': 'https://bitbucket.org/!api/2.0/repositories/phlogistonjohn/tweakmsg/hooks'},\n",
      "           'html': {'href': 'https://bitbucket.org/phlogistonjohn/tweakmsg'},\n",
      "           'pullrequests': {'href': 'https://bitbucket.org/!api/2.0/repositories/phlogistonjohn/tweakmsg/pullrequests'},\n",
      "           'self': {'href': 'https://bitbucket.org/!api/2.0/repositories/phlogistonjohn/tweakmsg'},\n",
      "           'watchers': {'href': 'https://bitbucket.org/!api/2.0/repositories/phlogistonjohn/tweakmsg/watchers'}},\n",
      " 'name': 'tweakmsg',\n",
      " 'owner': {'display_name': 'John Mulligan',\n",
      "           'links': {'avatar': {'href': 'https://bitbucket.org/account/phlogistonjohn/avatar/32/'},\n",
      "                     'html': {'href': 'https://bitbucket.org/phlogistonjohn/'},\n",
      "                     'self': {'href': 'https://bitbucket.org/!api/2.0/users/phlogistonjohn'}},\n",
      "           'type': 'user',\n",
      "           'username': 'phlogistonjohn',\n",
      "           'uuid': '{c8614bfa-831a-49eb-866b-4bdd87c8c2c2}'},\n",
      " 'scm': 'hg',\n",
      " 'size': 7085,\n",
      " 'type': 'repository',\n",
      " 'updated_on': '2012-06-24T17:32:27.458855+00:00',\n",
      " 'uuid': '{59299fb9-3695-4e0c-b8ca-836888b83315}'}\n"
     ]
    }
   ],
   "source": [
    "import pprint\n",
    "import re\n",
    "import pymongo, json\n",
    "\n",
    "pp = pprint.PrettyPrinter(indent=1,width=65)\n",
    "\n",
    "client = pymongo.MongoClient (host=\"da0.eecs.utk.edu\")\n",
    "db = client ['bitbucket']\n",
    "coll = db ['repos']\n",
    "for r in coll.find():\n",
    "    print(r.keys())\n",
    "    print (\"\\n\")\n",
    "    print(r.values())\n",
    "    print (\"\\n\")\n",
    "    print(pp .pformat (r))\n",
    "    break"
   ]
  },
  {
   "cell_type": "code",
   "execution_count": 46,
   "metadata": {
    "collapsed": false
   },
   "outputs": [
    {
     "name": "stdout",
     "output_type": "stream",
     "text": [
      "{'_id': ObjectId('55f86f8d19690706477d3d4e'),\n",
      " 'created_on': '2011-06-06T03:40:09.505792+00:00',\n",
      " 'description': '',\n",
      " 'fork_policy': 'allow_forks',\n",
      " 'full_name': 'opensymphony/xwork',\n",
      " 'has_issues': False,\n",
      " 'has_wiki': False,\n",
      " 'is_private': False,\n",
      " 'language': 'java',\n",
      " 'links': {'avatar': {'href': 'https://bitbucket.org/opensymphony/xwork/avatar/16/'},\n",
      "           'clone': [{'href': 'https://bitbucket.org/opensymphony/xwork.git',\n",
      "                      'name': 'https'},\n",
      "                     {'href': 'ssh://git@bitbucket.org/opensymphony/xwork.git',\n",
      "                      'name': 'ssh'}],\n",
      "           'commits': {'href': 'https://bitbucket.org/!api/2.0/repositories/opensymphony/xwork/commits'},\n",
      "           'downloads': {'href': 'https://bitbucket.org/!api/2.0/repositories/opensymphony/xwork/downloads'},\n",
      "           'forks': {'href': 'https://bitbucket.org/!api/2.0/repositories/opensymphony/xwork/forks'},\n",
      "           'hooks': {'href': 'https://bitbucket.org/!api/2.0/repositories/opensymphony/xwork/hooks'},\n",
      "           'html': {'href': 'https://bitbucket.org/opensymphony/xwork'},\n",
      "           'pullrequests': {'href': 'https://bitbucket.org/!api/2.0/repositories/opensymphony/xwork/pullrequests'},\n",
      "           'self': {'href': 'https://bitbucket.org/!api/2.0/repositories/opensymphony/xwork'},\n",
      "           'watchers': {'href': 'https://bitbucket.org/!api/2.0/repositories/opensymphony/xwork/watchers'}},\n",
      " 'name': 'xwork',\n",
      " 'owner': {'display_name': 'opensymphony',\n",
      "           'links': {'avatar': {'href': 'https://bitbucket.org/account/opensymphony/avatar/32/'},\n",
      "                     'html': {'href': 'https://bitbucket.org/opensymphony/'},\n",
      "                     'self': {'href': 'https://bitbucket.org/!api/2.0/users/opensymphony'}},\n",
      "           'type': 'user',\n",
      "           'username': 'opensymphony',\n",
      "           'uuid': '{cedfd0d1-899f-49de-acf7-a2fa8e924b6f}'},\n",
      " 'scm': 'git',\n",
      " 'size': 22877949,\n",
      " 'type': 'repository',\n",
      " 'updated_on': '2014-11-16T23:19:16.674082+00:00',\n",
      " 'uuid': '{3f630668-75f1-4903-ae5e-8ea37437e09e}'}\n"
     ]
    }
   ],
   "source": [
    "#can use logic to search\n",
    "for r in coll.find( { '$and': [ { 'has_wiki':False}, {'scm':'git'} ] }):\n",
    "    print(pp .pformat (r))\n",
    "    break"
   ]
  },
  {
   "cell_type": "code",
   "execution_count": 49,
   "metadata": {
    "collapsed": false
   },
   "outputs": [
    {
     "name": "stdout",
     "output_type": "stream",
     "text": [
      "{'_id': ObjectId('55f8711319690706477d628e'),\n",
      " 'created_on': '2011-10-03T16:57:53.254203+00:00',\n",
      " 'description': '',\n",
      " 'fork_policy': 'allow_forks',\n",
      " 'full_name': 'elmcitylabs/ecl-django',\n",
      " 'has_issues': False,\n",
      " 'has_wiki': False,\n",
      " 'is_private': False,\n",
      " 'language': 'python',\n",
      " 'links': {'avatar': {'href': 'https://bitbucket.org/elmcitylabs/ecl-django/avatar/16/'},\n",
      "           'clone': [{'href': 'https://bitbucket.org/elmcitylabs/ecl-django.git',\n",
      "                      'name': 'https'},\n",
      "                     {'href': 'ssh://git@bitbucket.org/elmcitylabs/ecl-django.git',\n",
      "                      'name': 'ssh'}],\n",
      "           'commits': {'href': 'https://bitbucket.org/!api/2.0/repositories/elmcitylabs/ecl-django/commits'},\n",
      "           'downloads': {'href': 'https://bitbucket.org/!api/2.0/repositories/elmcitylabs/ecl-django/downloads'},\n",
      "           'forks': {'href': 'https://bitbucket.org/!api/2.0/repositories/elmcitylabs/ecl-django/forks'},\n",
      "           'hooks': {'href': 'https://bitbucket.org/!api/2.0/repositories/elmcitylabs/ecl-django/hooks'},\n",
      "           'html': {'href': 'https://bitbucket.org/elmcitylabs/ecl-django'},\n",
      "           'pullrequests': {'href': 'https://bitbucket.org/!api/2.0/repositories/elmcitylabs/ecl-django/pullrequests'},\n",
      "           'self': {'href': 'https://bitbucket.org/!api/2.0/repositories/elmcitylabs/ecl-django'},\n",
      "           'watchers': {'href': 'https://bitbucket.org/!api/2.0/repositories/elmcitylabs/ecl-django/watchers'}},\n",
      " 'name': 'ECL Django',\n",
      " 'owner': {'display_name': 'Elm City Labs',\n",
      "           'links': {'avatar': {'href': 'https://bitbucket.org/account/elmcitylabs/avatar/32/'},\n",
      "                     'html': {'href': 'https://bitbucket.org/elmcitylabs/'},\n",
      "                     'self': {'href': 'https://bitbucket.org/!api/2.0/teams/elmcitylabs'}},\n",
      "           'type': 'team',\n",
      "           'username': 'elmcitylabs',\n",
      "           'uuid': '{3c663f57-8ea4-4f97-b6ce-6371f215bf62}'},\n",
      " 'scm': 'git',\n",
      " 'size': 1022434,\n",
      " 'type': 'repository',\n",
      " 'updated_on': '2014-05-20T15:46:27.699242+00:00',\n",
      " 'uuid': '{eca4d94b-305b-4934-908c-0c56b065af77}'}\n"
     ]
    }
   ],
   "source": [
    "#can search in the subfields\n",
    "for r in coll.find( { '$and': [ { 'owner.type': { '$ne':'user'}} , { 'has_wiki':False}, {'scm':'git'} ] }):\n",
    "    print(pp .pformat (r))\n",
    "    break"
   ]
  },
  {
   "cell_type": "code",
   "execution_count": 52,
   "metadata": {
    "collapsed": false
   },
   "outputs": [
    {
     "name": "stdout",
     "output_type": "stream",
     "text": [
      "{'_id': ObjectId('55f8b3d41969070676df89eb'),\n",
      " 'created_on': '2015-09-02T09:36:10.258230+00:00',\n",
      " 'description': '- Basics\\r\\n'\n",
      "                '- PHP\\r\\n'\n",
      "                '- MySQL\\r\\n'\n",
      "                '- JavaScript / jQuery\\r\\n'\n",
      "                '- Laravel',\n",
      " 'fork_policy': 'allow_forks',\n",
      " 'full_name': 'noonic/jinju-project',\n",
      " 'has_issues': False,\n",
      " 'has_wiki': False,\n",
      " 'is_private': False,\n",
      " 'language': 'php',\n",
      " 'links': {'avatar': {'href': 'https://bitbucket.org/noonic/jinju-project/avatar/16/'},\n",
      "           'clone': [{'href': 'https://bitbucket.org/noonic/jinju-project.git',\n",
      "                      'name': 'https'},\n",
      "                     {'href': 'ssh://git@bitbucket.org/noonic/jinju-project.git',\n",
      "                      'name': 'ssh'}],\n",
      "           'commits': {'href': 'https://bitbucket.org/!api/2.0/repositories/noonic/jinju-project/commits'},\n",
      "           'downloads': {'href': 'https://bitbucket.org/!api/2.0/repositories/noonic/jinju-project/downloads'},\n",
      "           'forks': {'href': 'https://bitbucket.org/!api/2.0/repositories/noonic/jinju-project/forks'},\n",
      "           'hooks': {'href': 'https://bitbucket.org/!api/2.0/repositories/noonic/jinju-project/hooks'},\n",
      "           'html': {'href': 'https://bitbucket.org/noonic/jinju-project'},\n",
      "           'pullrequests': {'href': 'https://bitbucket.org/!api/2.0/repositories/noonic/jinju-project/pullrequests'},\n",
      "           'self': {'href': 'https://bitbucket.org/!api/2.0/repositories/noonic/jinju-project'},\n",
      "           'watchers': {'href': 'https://bitbucket.org/!api/2.0/repositories/noonic/jinju-project/watchers'}},\n",
      " 'name': 'jinju-project',\n",
      " 'owner': {'display_name': 'Noonic',\n",
      "           'links': {'avatar': {'href': 'https://bitbucket.org/account/noonic/avatar/32/'},\n",
      "                     'html': {'href': 'https://bitbucket.org/noonic/'},\n",
      "                     'self': {'href': 'https://bitbucket.org/!api/2.0/teams/noonic'}},\n",
      "           'type': 'team',\n",
      "           'username': 'noonic',\n",
      "           'uuid': '{f7faa720-5c80-44ad-bff7-703264e34416}'},\n",
      " 'scm': 'git',\n",
      " 'size': 58427,\n",
      " 'type': 'repository',\n",
      " 'updated_on': '2015-09-03T12:19:41.815935+00:00',\n",
      " 'uuid': '{b2d74cff-1e2a-4cf1-93c6-395445c71a97}'}\n"
     ]
    }
   ],
   "source": [
    "#can search text\n",
    "for r in coll.find( { '$and': [ { '$text': {'$search': 'javascript' } }, { 'owner.type': { '$ne':'user'}} , { 'has_wiki':False}, {'scm':'git'} ] }):\n",
    "    print(pp .pformat (r))\n",
    "    break"
   ]
  },
  {
   "cell_type": "code",
   "execution_count": null,
   "metadata": {
    "collapsed": true
   },
   "outputs": [],
   "source": []
  }
 ],
 "metadata": {
  "kernelspec": {
   "display_name": "Python 3",
   "language": "python",
   "name": "python3"
  },
  "language_info": {
   "codemirror_mode": {
    "name": "ipython",
    "version": 3
   },
   "file_extension": ".py",
   "mimetype": "text/x-python",
   "name": "python",
   "nbconvert_exporter": "python",
   "pygments_lexer": "ipython3",
   "version": "3.4.3"
  }
 },
 "nbformat": 4,
 "nbformat_minor": 0
}
